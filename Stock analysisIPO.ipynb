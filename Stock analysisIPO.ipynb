{
 "cells": [
  {
   "cell_type": "markdown",
   "metadata": {},
   "source": [
    "### CHECKING IPOs PERFORMANCE IN THE FIRST 2 YEARS"
   ]
  },
  {
   "cell_type": "code",
   "execution_count": null,
   "metadata": {},
   "outputs": [],
   "source": [
    "import pandas as pd\n",
    "import yfinance as yf\n",
    "from yahoofinancials import YahooFinancials\n",
    "import requests\n",
    "import pandas as pd\n",
    "import matplotlib.pyplot as plt\n",
    "import seaborn as sns\n",
    "from datetime import date\n",
    "#stocksv variable has all the stocks\n",
    "#data has the original stocks\n",
    "#data1 has all the non NAN rows\n",
    "#Prices1 takes into account changes since the start\n",
    "#returnall all the changes"
   ]
  },
  {
   "cell_type": "markdown",
   "metadata": {},
   "source": [
    "### Import stocks from yfinance"
   ]
  },
  {
   "cell_type": "code",
   "execution_count": 141,
   "metadata": {},
   "outputs": [
    {
     "name": "stdout",
     "output_type": "stream",
     "text": [
      "[*********************100%***********************]  11 of 11 completed\n"
     ]
    }
   ],
   "source": [
    "import yfinance as yf\n",
    "\n",
    "today = date.today()\n",
    "d1 = today.strftime(\"%Y-%m-%d\")\n",
    "stocksv = ['BABA', 'V', 'TWTR', 'FB', 'BYND', 'TCEHY', 'GOOGL', 'GM', 'SNAP', 'SPOT', 'PLUG']\n",
    "data = yf.download(stocksv,start=\"1990-01-01\", end=d1)"
   ]
  },
  {
   "cell_type": "markdown",
   "metadata": {},
   "source": [
    "### Find the closing price for each stock "
   ]
  },
  {
   "cell_type": "code",
   "execution_count": 142,
   "metadata": {},
   "outputs": [
    {
     "data": {
      "text/html": [
       "<div>\n",
       "<style scoped>\n",
       "    .dataframe tbody tr th:only-of-type {\n",
       "        vertical-align: middle;\n",
       "    }\n",
       "\n",
       "    .dataframe tbody tr th {\n",
       "        vertical-align: top;\n",
       "    }\n",
       "\n",
       "    .dataframe thead th {\n",
       "        text-align: right;\n",
       "    }\n",
       "</style>\n",
       "<table border=\"1\" class=\"dataframe\">\n",
       "  <thead>\n",
       "    <tr style=\"text-align: right;\">\n",
       "      <th></th>\n",
       "      <th>BABA</th>\n",
       "      <th>BYND</th>\n",
       "      <th>FB</th>\n",
       "      <th>GM</th>\n",
       "      <th>GOOGL</th>\n",
       "      <th>PLUG</th>\n",
       "      <th>SNAP</th>\n",
       "      <th>SPOT</th>\n",
       "      <th>TCEHY</th>\n",
       "      <th>TWTR</th>\n",
       "      <th>V</th>\n",
       "    </tr>\n",
       "    <tr>\n",
       "      <th>Date</th>\n",
       "      <th></th>\n",
       "      <th></th>\n",
       "      <th></th>\n",
       "      <th></th>\n",
       "      <th></th>\n",
       "      <th></th>\n",
       "      <th></th>\n",
       "      <th></th>\n",
       "      <th></th>\n",
       "      <th></th>\n",
       "      <th></th>\n",
       "    </tr>\n",
       "  </thead>\n",
       "  <tbody>\n",
       "    <tr>\n",
       "      <th>1999-10-29</th>\n",
       "      <td>NaN</td>\n",
       "      <td>NaN</td>\n",
       "      <td>NaN</td>\n",
       "      <td>NaN</td>\n",
       "      <td>NaN</td>\n",
       "      <td>160.00</td>\n",
       "      <td>NaN</td>\n",
       "      <td>NaN</td>\n",
       "      <td>NaN</td>\n",
       "      <td>NaN</td>\n",
       "      <td>NaN</td>\n",
       "    </tr>\n",
       "    <tr>\n",
       "      <th>1999-11-01</th>\n",
       "      <td>NaN</td>\n",
       "      <td>NaN</td>\n",
       "      <td>NaN</td>\n",
       "      <td>NaN</td>\n",
       "      <td>NaN</td>\n",
       "      <td>160.00</td>\n",
       "      <td>NaN</td>\n",
       "      <td>NaN</td>\n",
       "      <td>NaN</td>\n",
       "      <td>NaN</td>\n",
       "      <td>NaN</td>\n",
       "    </tr>\n",
       "    <tr>\n",
       "      <th>1999-11-02</th>\n",
       "      <td>NaN</td>\n",
       "      <td>NaN</td>\n",
       "      <td>NaN</td>\n",
       "      <td>NaN</td>\n",
       "      <td>NaN</td>\n",
       "      <td>178.75</td>\n",
       "      <td>NaN</td>\n",
       "      <td>NaN</td>\n",
       "      <td>NaN</td>\n",
       "      <td>NaN</td>\n",
       "      <td>NaN</td>\n",
       "    </tr>\n",
       "  </tbody>\n",
       "</table>\n",
       "</div>"
      ],
      "text/plain": [
       "            BABA  BYND  FB  GM  GOOGL    PLUG  SNAP  SPOT  TCEHY  TWTR   V\n",
       "Date                                                                      \n",
       "1999-10-29   NaN   NaN NaN NaN    NaN  160.00   NaN   NaN    NaN   NaN NaN\n",
       "1999-11-01   NaN   NaN NaN NaN    NaN  160.00   NaN   NaN    NaN   NaN NaN\n",
       "1999-11-02   NaN   NaN NaN NaN    NaN  178.75   NaN   NaN    NaN   NaN NaN"
      ]
     },
     "execution_count": 142,
     "metadata": {},
     "output_type": "execute_result"
    }
   ],
   "source": [
    "adjclose = data['Adj Close']\n",
    "adjclose.head(3)"
   ]
  },
  {
   "cell_type": "markdown",
   "metadata": {},
   "source": [
    "### Convert the dataframe to list. We do not want datetime index. Added the header on top of the list"
   ]
  },
  {
   "cell_type": "code",
   "execution_count": 143,
   "metadata": {},
   "outputs": [],
   "source": [
    "body= adjclose.values.tolist()\n",
    "headers = adjclose.columns.tolist()\n",
    "body.insert(0,headers)"
   ]
  },
  {
   "cell_type": "markdown",
   "metadata": {},
   "source": [
    "### Convert lists back to Dataframe. Shifted rows up."
   ]
  },
  {
   "cell_type": "code",
   "execution_count": 144,
   "metadata": {},
   "outputs": [
    {
     "data": {
      "text/html": [
       "<div>\n",
       "<style scoped>\n",
       "    .dataframe tbody tr th:only-of-type {\n",
       "        vertical-align: middle;\n",
       "    }\n",
       "\n",
       "    .dataframe tbody tr th {\n",
       "        vertical-align: top;\n",
       "    }\n",
       "\n",
       "    .dataframe thead th {\n",
       "        text-align: right;\n",
       "    }\n",
       "</style>\n",
       "<table border=\"1\" class=\"dataframe\">\n",
       "  <thead>\n",
       "    <tr style=\"text-align: right;\">\n",
       "      <th></th>\n",
       "      <th>BABA</th>\n",
       "      <th>BYND</th>\n",
       "      <th>FB</th>\n",
       "      <th>GM</th>\n",
       "      <th>GOOGL</th>\n",
       "      <th>PLUG</th>\n",
       "      <th>SNAP</th>\n",
       "      <th>SPOT</th>\n",
       "      <th>TCEHY</th>\n",
       "      <th>TWTR</th>\n",
       "      <th>V</th>\n",
       "    </tr>\n",
       "  </thead>\n",
       "  <tbody>\n",
       "    <tr>\n",
       "      <th>1</th>\n",
       "      <td>93.89</td>\n",
       "      <td>65.75</td>\n",
       "      <td>38.23</td>\n",
       "      <td>26.4252</td>\n",
       "      <td>50.2202</td>\n",
       "      <td>160</td>\n",
       "      <td>24.48</td>\n",
       "      <td>149.01</td>\n",
       "      <td>4.31974</td>\n",
       "      <td>44.9</td>\n",
       "      <td>12.8892</td>\n",
       "    </tr>\n",
       "    <tr>\n",
       "      <th>2</th>\n",
       "      <td>89.89</td>\n",
       "      <td>66.79</td>\n",
       "      <td>34.03</td>\n",
       "      <td>26.4793</td>\n",
       "      <td>54.2092</td>\n",
       "      <td>160</td>\n",
       "      <td>27.09</td>\n",
       "      <td>144.22</td>\n",
       "      <td>4.34885</td>\n",
       "      <td>41.65</td>\n",
       "      <td>14.68</td>\n",
       "    </tr>\n",
       "    <tr>\n",
       "      <th>3</th>\n",
       "      <td>87.17</td>\n",
       "      <td>74.79</td>\n",
       "      <td>31</td>\n",
       "      <td>26.3402</td>\n",
       "      <td>54.7548</td>\n",
       "      <td>178.75</td>\n",
       "      <td>23.77</td>\n",
       "      <td>143.99</td>\n",
       "      <td>4.17226</td>\n",
       "      <td>42.9</td>\n",
       "      <td>13.626</td>\n",
       "    </tr>\n",
       "  </tbody>\n",
       "</table>\n",
       "</div>"
      ],
      "text/plain": [
       "0   BABA   BYND     FB       GM    GOOGL    PLUG   SNAP    SPOT    TCEHY  \\\n",
       "1  93.89  65.75  38.23  26.4252  50.2202     160  24.48  149.01  4.31974   \n",
       "2  89.89  66.79  34.03  26.4793  54.2092     160  27.09  144.22  4.34885   \n",
       "3  87.17  74.79     31  26.3402  54.7548  178.75  23.77  143.99  4.17226   \n",
       "\n",
       "0   TWTR        V  \n",
       "1   44.9  12.8892  \n",
       "2  41.65    14.68  \n",
       "3   42.9   13.626  "
      ]
     },
     "execution_count": 144,
     "metadata": {},
     "output_type": "execute_result"
    }
   ],
   "source": [
    "df = pd.DataFrame(data= body, dtype = 'float')\n",
    "df = df.apply(lambda x: pd.Series(x.dropna().values))\n",
    "new_header = df.iloc[0] #grab the first row for the header\n",
    "df = df[1:] #take the data less the header row\n",
    "df.columns = new_header #set the header row as the df header\n",
    "df.head(3)"
   ]
  },
  {
   "cell_type": "markdown",
   "metadata": {},
   "source": [
    "https://stackoverflow.com/questions/43119503/how-to-remove-blanks-nas-from-dataframe-and-shift-the-values-up"
   ]
  },
  {
   "cell_type": "markdown",
   "metadata": {},
   "source": [
    "### Check to see if the dataframe is float (nummeric) - it is not"
   ]
  },
  {
   "cell_type": "code",
   "execution_count": 145,
   "metadata": {},
   "outputs": [
    {
     "name": "stdout",
     "output_type": "stream",
     "text": [
      "<class 'pandas.core.frame.DataFrame'>\n",
      "RangeIndex: 5480 entries, 1 to 5480\n",
      "Data columns (total 11 columns):\n",
      " #   Column  Non-Null Count  Dtype \n",
      "---  ------  --------------  ----- \n",
      " 0   BABA    1735 non-null   object\n",
      " 1   BYND    574 non-null    object\n",
      " 2   FB      2322 non-null   object\n",
      " 3   GM      2699 non-null   object\n",
      " 4   GOOGL   4274 non-null   object\n",
      " 5   PLUG    5480 non-null   object\n",
      " 6   SNAP    1119 non-null   object\n",
      " 7   SPOT    846 non-null    object\n",
      " 8   TCEHY   2920 non-null   object\n",
      " 9   TWTR    1952 non-null   object\n",
      " 10  V       3373 non-null   object\n",
      "dtypes: object(11)\n",
      "memory usage: 471.1+ KB\n"
     ]
    }
   ],
   "source": [
    "df.info()"
   ]
  },
  {
   "cell_type": "markdown",
   "metadata": {},
   "source": [
    "### Need all values to be float for Seaborne"
   ]
  },
  {
   "cell_type": "code",
   "execution_count": 156,
   "metadata": {},
   "outputs": [],
   "source": [
    "#Need all float for Seaborne\n",
    "df = df.apply(pd.to_numeric)"
   ]
  },
  {
   "cell_type": "markdown",
   "metadata": {},
   "source": [
    "### Create dataframe for price evolution"
   ]
  },
  {
   "cell_type": "code",
   "execution_count": 157,
   "metadata": {},
   "outputs": [
    {
     "data": {
      "text/html": [
       "<div>\n",
       "<style scoped>\n",
       "    .dataframe tbody tr th:only-of-type {\n",
       "        vertical-align: middle;\n",
       "    }\n",
       "\n",
       "    .dataframe tbody tr th {\n",
       "        vertical-align: top;\n",
       "    }\n",
       "\n",
       "    .dataframe thead th {\n",
       "        text-align: right;\n",
       "    }\n",
       "</style>\n",
       "<table border=\"1\" class=\"dataframe\">\n",
       "  <thead>\n",
       "    <tr style=\"text-align: right;\">\n",
       "      <th></th>\n",
       "      <th>BABA</th>\n",
       "      <th>BYND</th>\n",
       "      <th>FB</th>\n",
       "      <th>GM</th>\n",
       "      <th>GOOGL</th>\n",
       "      <th>PLUG</th>\n",
       "      <th>SNAP</th>\n",
       "      <th>SPOT</th>\n",
       "      <th>TCEHY</th>\n",
       "      <th>TWTR</th>\n",
       "      <th>V</th>\n",
       "    </tr>\n",
       "  </thead>\n",
       "  <tbody>\n",
       "    <tr>\n",
       "      <th>726</th>\n",
       "      <td>1.69</td>\n",
       "      <td>NaN</td>\n",
       "      <td>2.15</td>\n",
       "      <td>1.00</td>\n",
       "      <td>5.41</td>\n",
       "      <td>0.34</td>\n",
       "      <td>0.78</td>\n",
       "      <td>2.38</td>\n",
       "      <td>1.48</td>\n",
       "      <td>0.52</td>\n",
       "      <td>1.30</td>\n",
       "    </tr>\n",
       "    <tr>\n",
       "      <th>727</th>\n",
       "      <td>1.68</td>\n",
       "      <td>NaN</td>\n",
       "      <td>2.15</td>\n",
       "      <td>1.00</td>\n",
       "      <td>5.41</td>\n",
       "      <td>0.32</td>\n",
       "      <td>0.78</td>\n",
       "      <td>2.45</td>\n",
       "      <td>1.51</td>\n",
       "      <td>0.53</td>\n",
       "      <td>1.29</td>\n",
       "    </tr>\n",
       "    <tr>\n",
       "      <th>728</th>\n",
       "      <td>1.68</td>\n",
       "      <td>NaN</td>\n",
       "      <td>2.17</td>\n",
       "      <td>1.02</td>\n",
       "      <td>5.43</td>\n",
       "      <td>0.31</td>\n",
       "      <td>0.78</td>\n",
       "      <td>2.35</td>\n",
       "      <td>1.50</td>\n",
       "      <td>0.51</td>\n",
       "      <td>1.31</td>\n",
       "    </tr>\n",
       "    <tr>\n",
       "      <th>729</th>\n",
       "      <td>1.62</td>\n",
       "      <td>NaN</td>\n",
       "      <td>2.18</td>\n",
       "      <td>1.03</td>\n",
       "      <td>5.43</td>\n",
       "      <td>0.33</td>\n",
       "      <td>0.79</td>\n",
       "      <td>2.26</td>\n",
       "      <td>1.47</td>\n",
       "      <td>0.51</td>\n",
       "      <td>1.33</td>\n",
       "    </tr>\n",
       "    <tr>\n",
       "      <th>730</th>\n",
       "      <td>1.62</td>\n",
       "      <td>NaN</td>\n",
       "      <td>2.16</td>\n",
       "      <td>1.03</td>\n",
       "      <td>5.50</td>\n",
       "      <td>0.33</td>\n",
       "      <td>0.78</td>\n",
       "      <td>2.25</td>\n",
       "      <td>1.47</td>\n",
       "      <td>0.51</td>\n",
       "      <td>1.34</td>\n",
       "    </tr>\n",
       "  </tbody>\n",
       "</table>\n",
       "</div>"
      ],
      "text/plain": [
       "0    BABA  BYND    FB    GM  GOOGL  PLUG  SNAP  SPOT  TCEHY  TWTR     V\n",
       "726  1.69   NaN  2.15  1.00   5.41  0.34  0.78  2.38   1.48  0.52  1.30\n",
       "727  1.68   NaN  2.15  1.00   5.41  0.32  0.78  2.45   1.51  0.53  1.29\n",
       "728  1.68   NaN  2.17  1.02   5.43  0.31  0.78  2.35   1.50  0.51  1.31\n",
       "729  1.62   NaN  2.18  1.03   5.43  0.33  0.79  2.26   1.47  0.51  1.33\n",
       "730  1.62   NaN  2.16  1.03   5.50  0.33  0.78  2.25   1.47  0.51  1.34"
      ]
     },
     "execution_count": 157,
     "metadata": {},
     "output_type": "execute_result"
    }
   ],
   "source": [
    "Prices= df.head(730)\n",
    "#Prices= data1['Adj Close'].head(400)\n",
    "Prices.head(3)\n",
    "#divide all dataframe by first line of data to enable comparison\n",
    "Prices1 = Prices/Prices.iloc[0]\n",
    "Prices1.tail(5).round(2)"
   ]
  },
  {
   "cell_type": "code",
   "execution_count": 159,
   "metadata": {},
   "outputs": [
    {
     "data": {
      "text/html": [
       "<div>\n",
       "<style scoped>\n",
       "    .dataframe tbody tr th:only-of-type {\n",
       "        vertical-align: middle;\n",
       "    }\n",
       "\n",
       "    .dataframe tbody tr th {\n",
       "        vertical-align: top;\n",
       "    }\n",
       "\n",
       "    .dataframe thead th {\n",
       "        text-align: right;\n",
       "    }\n",
       "</style>\n",
       "<table border=\"1\" class=\"dataframe\">\n",
       "  <thead>\n",
       "    <tr style=\"text-align: right;\">\n",
       "      <th></th>\n",
       "      <th>BABA</th>\n",
       "      <th>BYND</th>\n",
       "      <th>FB</th>\n",
       "      <th>GM</th>\n",
       "      <th>GOOGL</th>\n",
       "      <th>PLUG</th>\n",
       "      <th>SNAP</th>\n",
       "      <th>SPOT</th>\n",
       "      <th>TCEHY</th>\n",
       "      <th>TWTR</th>\n",
       "      <th>V</th>\n",
       "    </tr>\n",
       "  </thead>\n",
       "  <tbody>\n",
       "    <tr>\n",
       "      <th>count</th>\n",
       "      <td>730.000</td>\n",
       "      <td>574.000</td>\n",
       "      <td>730.000</td>\n",
       "      <td>730.000</td>\n",
       "      <td>730.000</td>\n",
       "      <td>730.000</td>\n",
       "      <td>730.000</td>\n",
       "      <td>730.000</td>\n",
       "      <td>730.000</td>\n",
       "      <td>730.000</td>\n",
       "      <td>730.000</td>\n",
       "    </tr>\n",
       "    <tr>\n",
       "      <th>mean</th>\n",
       "      <td>0.987</td>\n",
       "      <td>1.957</td>\n",
       "      <td>1.279</td>\n",
       "      <td>0.817</td>\n",
       "      <td>3.436</td>\n",
       "      <td>1.798</td>\n",
       "      <td>0.564</td>\n",
       "      <td>1.209</td>\n",
       "      <td>1.103</td>\n",
       "      <td>0.777</td>\n",
       "      <td>1.269</td>\n",
       "    </tr>\n",
       "    <tr>\n",
       "      <th>std</th>\n",
       "      <td>0.214</td>\n",
       "      <td>0.485</td>\n",
       "      <td>0.570</td>\n",
       "      <td>0.157</td>\n",
       "      <td>1.189</td>\n",
       "      <td>1.848</td>\n",
       "      <td>0.167</td>\n",
       "      <td>0.419</td>\n",
       "      <td>0.210</td>\n",
       "      <td>0.306</td>\n",
       "      <td>0.209</td>\n",
       "    </tr>\n",
       "    <tr>\n",
       "      <th>min</th>\n",
       "      <td>0.611</td>\n",
       "      <td>0.822</td>\n",
       "      <td>0.464</td>\n",
       "      <td>0.550</td>\n",
       "      <td>0.997</td>\n",
       "      <td>0.289</td>\n",
       "      <td>0.204</td>\n",
       "      <td>0.717</td>\n",
       "      <td>0.721</td>\n",
       "      <td>0.312</td>\n",
       "      <td>0.753</td>\n",
       "    </tr>\n",
       "    <tr>\n",
       "      <th>25%</th>\n",
       "      <td>0.845</td>\n",
       "      <td>1.673</td>\n",
       "      <td>0.708</td>\n",
       "      <td>0.683</td>\n",
       "      <td>2.278</td>\n",
       "      <td>0.595</td>\n",
       "      <td>0.460</td>\n",
       "      <td>0.933</td>\n",
       "      <td>0.920</td>\n",
       "      <td>0.494</td>\n",
       "      <td>1.143</td>\n",
       "    </tr>\n",
       "    <tr>\n",
       "      <th>50%</th>\n",
       "      <td>0.927</td>\n",
       "      <td>2.030</td>\n",
       "      <td>1.283</td>\n",
       "      <td>0.808</td>\n",
       "      <td>3.772</td>\n",
       "      <td>1.021</td>\n",
       "      <td>0.578</td>\n",
       "      <td>1.012</td>\n",
       "      <td>1.075</td>\n",
       "      <td>0.811</td>\n",
       "      <td>1.291</td>\n",
       "    </tr>\n",
       "    <tr>\n",
       "      <th>75%</th>\n",
       "      <td>1.101</td>\n",
       "      <td>2.270</td>\n",
       "      <td>1.891</td>\n",
       "      <td>0.946</td>\n",
       "      <td>4.463</td>\n",
       "      <td>2.384</td>\n",
       "      <td>0.653</td>\n",
       "      <td>1.284</td>\n",
       "      <td>1.263</td>\n",
       "      <td>1.018</td>\n",
       "      <td>1.421</td>\n",
       "    </tr>\n",
       "    <tr>\n",
       "      <th>max</th>\n",
       "      <td>1.692</td>\n",
       "      <td>3.573</td>\n",
       "      <td>2.231</td>\n",
       "      <td>1.140</td>\n",
       "      <td>5.503</td>\n",
       "      <td>9.359</td>\n",
       "      <td>1.107</td>\n",
       "      <td>2.447</td>\n",
       "      <td>1.637</td>\n",
       "      <td>1.633</td>\n",
       "      <td>1.729</td>\n",
       "    </tr>\n",
       "  </tbody>\n",
       "</table>\n",
       "</div>"
      ],
      "text/plain": [
       "0         BABA     BYND       FB       GM    GOOGL     PLUG     SNAP     SPOT  \\\n",
       "count  730.000  574.000  730.000  730.000  730.000  730.000  730.000  730.000   \n",
       "mean     0.987    1.957    1.279    0.817    3.436    1.798    0.564    1.209   \n",
       "std      0.214    0.485    0.570    0.157    1.189    1.848    0.167    0.419   \n",
       "min      0.611    0.822    0.464    0.550    0.997    0.289    0.204    0.717   \n",
       "25%      0.845    1.673    0.708    0.683    2.278    0.595    0.460    0.933   \n",
       "50%      0.927    2.030    1.283    0.808    3.772    1.021    0.578    1.012   \n",
       "75%      1.101    2.270    1.891    0.946    4.463    2.384    0.653    1.284   \n",
       "max      1.692    3.573    2.231    1.140    5.503    9.359    1.107    2.447   \n",
       "\n",
       "0        TCEHY     TWTR        V  \n",
       "count  730.000  730.000  730.000  \n",
       "mean     1.103    0.777    1.269  \n",
       "std      0.210    0.306    0.209  \n",
       "min      0.721    0.312    0.753  \n",
       "25%      0.920    0.494    1.143  \n",
       "50%      1.075    0.811    1.291  \n",
       "75%      1.263    1.018    1.421  \n",
       "max      1.637    1.633    1.729  "
      ]
     },
     "execution_count": 159,
     "metadata": {},
     "output_type": "execute_result"
    }
   ],
   "source": [
    "Prices1.describe().round(3)"
   ]
  },
  {
   "cell_type": "markdown",
   "metadata": {},
   "source": [
    "### Beautiful and Dynamic Seaborn Plot"
   ]
  },
  {
   "cell_type": "code",
   "execution_count": 160,
   "metadata": {},
   "outputs": [
    {
     "data": {
      "image/png": "[encoded data removed]",
      "text/plain": [
       "<Figure size 1080x360 with 1 Axes>"
      ]
     },
     "metadata": {},
     "output_type": "display_data"
    }
   ],
   "source": [
    "sns.lineplot(data= Prices1.iloc[:, :])\n",
    "import seaborn as sns\n",
    "\n",
    "sns.set(rc={'figure.figsize':(15,5)})"
   ]
  },
  {
   "cell_type": "code",
   "execution_count": null,
   "metadata": {},
   "outputs": [],
   "source": []
  },
  {
   "cell_type": "code",
   "execution_count": 150,
   "metadata": {},
   "outputs": [],
   "source": [
    "#sns.pairplot(Prices1)"
   ]
  },
  {
   "cell_type": "code",
   "execution_count": null,
   "metadata": {},
   "outputs": [],
   "source": []
  }
 ],
 "metadata": {
  "kernelspec": {
   "display_name": "Python 3",
   "language": "python",
   "name": "python3"
  },
  "language_info": {
   "codemirror_mode": {
    "name": "ipython",
    "version": 3
   },
   "file_extension": ".py",
   "mimetype": "text/x-python",
   "name": "python",
   "nbconvert_exporter": "python",
   "pygments_lexer": "ipython3",
   "version": "3.8.5"
  }
 },
 "nbformat": 4,
 "nbformat_minor": 4
}
